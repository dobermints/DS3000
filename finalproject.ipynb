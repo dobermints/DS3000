{
 "cells": [
  {
   "cell_type": "code",
   "execution_count": 4,
   "metadata": {
    "collapsed": true
   },
   "outputs": [],
   "source": [
    "import pandas as pd\n",
    "import numpy as np\n",
    "import matplotlib.pyplot as plt\n",
    "import os\n",
    "import re"
   ]
  },
  {
   "cell_type": "code",
   "execution_count": null,
   "outputs": [],
   "source": [
    "# Deletes non NA values that have commas in them so that they can be turned into numeric values\n",
    "def replace_commas(x):\n",
    "    if pd.isna(x) == False and isinstance(x, (str, int, float)):\n",
    "        return str(str(x).replace(',', ''))\n",
    "    return x"
   ],
   "metadata": {
    "collapsed": false
   }
  },
  {
   "cell_type": "code",
   "execution_count": null,
   "outputs": [],
   "source": [
    "# Deletes % sign from the percentage data so that they can be turned into numeric values\n",
    "def fix_percentages(x):\n",
    "    if isinstance(x, (str)):\n",
    "        return x.replace('%', '')\n",
    "    return x"
   ],
   "metadata": {
    "collapsed": false
   }
  },
  {
   "cell_type": "code",
   "execution_count": null,
   "outputs": [],
   "source": [
    "# Formats Zip Codes as Strings by removing ' or adding a 0 in front of a four letter zip code\n",
    "def fix_zip_code(x):\n",
    "    if len(str(x)) == 5 and str(x).find(\"\\'\") == -1:\n",
    "        return x\n",
    "    if isinstance(x, (str)):\n",
    "        new_zip = x.replace('\\'', '')\n",
    "        if len(new_zip) == 5:\n",
    "            return new_zip\n",
    "        return \"0\" + str(new_zip)\n",
    "    else:\n",
    "        return \"0\" + str(x)"
   ],
   "metadata": {
    "collapsed": false
   }
  },
  {
   "cell_type": "code",
   "execution_count": 85,
   "outputs": [
    {
     "name": "stdout",
     "output_type": "stream",
     "text": [
      "berdo\\berdo-2014.xlsx\n",
      "2014\n",
      "berdo\\berdo-2015.xlsx\n",
      "2015\n",
      "berdo\\berdo-2016.csv\n",
      "2016\n",
      "berdo\\berdo-2017.csv\n",
      "2017\n",
      "berdo\\berdo-2018.xlsx\n",
      "2018\n",
      "berdo\\berdo-2019.xlsx\n",
      "2019\n",
      "berdo\\berdo-2020.xlsx\n",
      "2020\n"
     ]
    }
   ],
   "source": [
    "def convert_xlsx_to_csv_and_merge(directory):\n",
    "    all_data = pd.DataFrame()  # Initialize an empty DataFrame\n",
    "\n",
    "    for filename in os.listdir(directory):\n",
    "\n",
    "        # for csvs:\n",
    "        if filename.endswith('.csv'):\n",
    "            file_path = os.path.join(directory, filename)\n",
    "            print(file_path)\n",
    "\n",
    "            # Read the CSV file and append its contents to the DataFrame\n",
    "            # Formating Header to remove whitespaces\n",
    "            df = pd.read_csv(file_path, na_values=['#DIV/0', 'Not Available', ' -   ', ' Not Available ', 'Not applicable to this property type'])\n",
    "            for col in df.columns:\n",
    "                new_col = col.strip()\n",
    "                df.rename(columns = {col:new_col}, inplace = True)\n",
    "\n",
    "            # Inserting new rows to the dataframe that aren't in some files\n",
    "            df.insert(17, '% Fuel Oil', 0)\n",
    "            df.insert(18, '% District Hot Water', 0)\n",
    "            df.insert(19, '% District Chilled Water', 0)\n",
    "            df.insert(20, '% Other (Diesel #2, Kerosene, Propane or Other Fuel)', 0)\n",
    "\n",
    "            # Normalizing the percentages to be decimals adding up to 1 rather than integer%\n",
    "            if filename.startswith('berdo-2016'):\n",
    "                df[\"% Electricity\"] = pd.to_numeric(df['% Electricity'].apply(fix_percentages)) / 100\n",
    "                df[\"% Gas\"] = pd.to_numeric(df[\"% Gas\"].apply(fix_percentages)) / 100\n",
    "                df[\"% Steam\"] = pd.to_numeric(df[\"% Steam\"].apply(fix_percentages)) / 100\n",
    "\n",
    "        elif filename.endswith('.xlsx'):\n",
    "            file_path = os.path.join(directory, filename)\n",
    "            print(file_path)\n",
    "\n",
    "            # Read the XLSX file and append its contents to the DataFrame\n",
    "            # Formating Header to remove whitespaces\n",
    "            df = pd.read_excel(file_path, na_values=['#DIV/0', 'Not Available', ' -   ', ' Not Available ', 'Not applicable to this property type'])\n",
    "            for col in df.columns:\n",
    "                new_col = col.strip()\n",
    "                df.rename(columns = {col:new_col}, inplace=True)\n",
    "\n",
    "            # Renaming Onsite Solar in some files to Onsite Renewable (more general and matches rest of files)\n",
    "            if filename.startswith('berdo-2014'):\n",
    "                df['Years Reported'] = 2014\n",
    "                df.rename(columns={'Onsite Solar (kWh)':'Onsite Renewable (kWh)'}, inplace=True)\n",
    "\n",
    "            if filename.startswith('berdo-2015'):\n",
    "                df.rename(columns={'Onsite Solar (kWh)':'Onsite Renewable (kWh)'}, inplace=True)\n",
    "\n",
    "            # Removes unncessary columns on energy action plans (only contains data for 2018, 2019)\n",
    "            if filename.startswith('berdo-2019') or filename.startswith('berdo-2018'):\n",
    "                df = df.iloc[:,:-2]\n",
    "\n",
    "            # Inserting new rows to the dataframe that aren't in some files\n",
    "            if not (filename.startswith('berdo-2020') or filename.startswith('berdo-2019')):\n",
    "                df.insert(17, '% Fuel Oil', 0)\n",
    "                df.insert(18, '% District Hot Water', 0)\n",
    "                df.insert(19, '% District Chilled Water', 0)\n",
    "                df.insert(20, '% Other (Diesel #2, Kerosene, Propane or Other Fuel)', 0)\n",
    "            elif filename.startswith('berdo-2019'):\n",
    "                df.insert(20, '% Other (Diesel #2, Kerosene, Propane or Other Fuel)', 0)\n",
    "            else:\n",
    "                df['Years Reported'] = 2020\n",
    "\n",
    "            # Formatting percentages to dtype float64\n",
    "            df[\"% Electricity\"] = pd.to_numeric(df['% Electricity'].apply(fix_percentages))\n",
    "            df[\"% Gas\"] = pd.to_numeric(df[\"% Gas\"].apply(fix_percentages))\n",
    "            df[\"% Steam\"] = pd.to_numeric(df[\"% Steam\"].apply(fix_percentages))\n",
    "\n",
    "            # Normalizing the percentages to be decimals adding up to 1 rather than integer%\n",
    "            if filename.startswith('berdo-2014'):\n",
    "                df[\"% Electricity\"] = df['% Electricity'].apply(fix_percentages) / 100\n",
    "                df[\"% Gas\"] = df[\"% Gas\"].apply(fix_percentages) / 100\n",
    "                df[\"% Steam\"] = df[\"% Steam\"].apply(fix_percentages) / 100\n",
    "\n",
    "        # Add Year column before appending and getting year value using regex\n",
    "        regex = r'\\b(\\d{4})\\b'\n",
    "        match = re.search(regex, filename)\n",
    "        if match:\n",
    "            year = match.group(1)\n",
    "            print(year)\n",
    "\n",
    "        df['Year'] = year\n",
    "\n",
    "        # All the formatting and cleaning using above functions to\n",
    "        # change select features into correct dtypes\n",
    "        df.ZIP = df.ZIP.apply(fix_zip_code)\n",
    "        new_series = df['Onsite Renewable (kWh)']\n",
    "        new_series = new_series.apply(replace_commas)\n",
    "        df['Onsite Renewable (kWh)'] = pd.to_numeric(new_series)\n",
    "        df['Onsite Renewable (kWh)'] = df['Onsite Renewable (kWh)'].replace(np.nan, 0)\n",
    "        df['Gross Area (sq ft)'] = df['Gross Area (sq ft)'].apply(replace_commas)\n",
    "        df['Gross Area (sq ft)'] = pd.to_numeric(df['Gross Area (sq ft)'])\n",
    "        df.Year = pd.to_numeric(df.Year)\n",
    "        df['Energy Star Certified'] = df['Energy Star Certified'].replace(np.nan, 0)\n",
    "        df['Energy Star Score'] = pd.to_numeric(df['Energy Star Score'])\n",
    "        df['Energy Star Score'] = df['Energy Star Score'].replace(np.nan, 0)\n",
    "        df['GHG Emissions (MTCO2e)'] = df['GHG Emissions (MTCO2e)'].apply(replace_commas)\n",
    "        df['GHG Emissions (MTCO2e)'] = pd.to_numeric(df['GHG Emissions (MTCO2e)'])\n",
    "        df['GHG Intensity (kgCO2/sf)'] = df['GHG Intensity (kgCO2/sf)'].apply(replace_commas)\n",
    "        df['GHG Intensity (kgCO2/sf)'] = pd.to_numeric(df['GHG Intensity (kgCO2/sf)'])\n",
    "        df['Total Site Energy (kBTU)'] = df['Total Site Energy (kBTU)'].apply(replace_commas)\n",
    "        df['Total Site Energy (kBTU)'] = pd.to_numeric(df['Total Site Energy (kBTU)'])\n",
    "\n",
    "        all_data = pd.concat([all_data, df], ignore_index=True, axis=0)\n",
    "\n",
    "    return all_data\n",
    "\n",
    "# Specify the directory containing the XLSX and CSV files\n",
    "directory_path = 'berdo'\n",
    "\n",
    "# Call the function to convert XLSX files to CSV and merge them into a single DataFrame\n",
    "merged_data = convert_xlsx_to_csv_and_merge(directory_path)"
   ],
   "metadata": {
    "collapsed": false
   }
  },
  {
   "cell_type": "code",
   "execution_count": 92,
   "outputs": [
    {
     "data": {
      "text/plain": "                              Property Name Reported  \\\n0                            MEEI -Longwood      Yes   \n1                         Prime Motor Group      Yes   \n2  New England Center for Homeless Veterans      Yes   \n3                    Dental Health Building      Yes   \n4                               Posner Hall      Yes   \n\n                Property Type                Address    ZIP  \\\n0  Ambulatory Surgical Center     800 Huntington Ave  02115   \n1       Automobile Dealership  1525-1607 VFW Parkway  02132   \n2                    Barracks           17 Court St.  02108   \n3          College/University      1 Kneeland Street  02111   \n4          College/University    200 Harrison Avenue  02111   \n\n   Gross Area (sq ft)  Site EUI (kBTU/sf)  Energy Star Score  \\\n0             76300.0               173.1                0.0   \n1            150000.0                28.7                0.0   \n2            130000.0                49.8               58.0   \n3            330486.0               284.7                0.0   \n4             60284.0                95.9                0.0   \n\n  Energy Star Certified                                      Property Uses  \\\n0                     0                         Ambulatory Surgical Center   \n1                     0                     Automobile Dealership, Parking   \n2                     0                                           Barracks   \n3                     0  College/University, Hospital (General Medical ...   \n4                     0                                 College/University   \n\n   ...  % District Hot Water  % District Chilled Water  \\\n0  ...                   0.0                       0.0   \n1  ...                   0.0                       0.0   \n2  ...                   0.0                       0.0   \n3  ...                   0.0                       0.0   \n4  ...                   0.0                       0.0   \n\n   % Other (Diesel #2, Kerosene, Propane or Other Fuel)  \\\n0                                                0.0      \n1                                                0.0      \n2                                                0.0      \n3                                                0.0      \n4                                                0.0      \n\n   Water Intensity (gal/sf)  Onsite Renewable (kWh)  \\\n0                       NaN                     0.0   \n1                  8.957333                     0.0   \n2                       NaN                     0.0   \n3                 24.437646                     0.0   \n4                 20.015261                     0.0   \n\n                                 User Submitted Info  User Submitted Link  \\\n0                                                NaN                  NaN   \n1                                                NaN                  NaN   \n2                                                NaN                  NaN   \n3  \\n\\nWater, electricity and steam come from Tuf...                  NaN   \n4                                                NaN                  NaN   \n\n   Tax Parcel  Years Reported  Year  \n0  1000894000            2014  2014  \n1  2010643010            2014  2014  \n2  0302886000            2014  2014  \n3  0305380000            2014  2014  \n4  0305081000            2014  2014  \n\n[5 rows x 28 columns]",
      "text/html": "<div>\n<style scoped>\n    .dataframe tbody tr th:only-of-type {\n        vertical-align: middle;\n    }\n\n    .dataframe tbody tr th {\n        vertical-align: top;\n    }\n\n    .dataframe thead th {\n        text-align: right;\n    }\n</style>\n<table border=\"1\" class=\"dataframe\">\n  <thead>\n    <tr style=\"text-align: right;\">\n      <th></th>\n      <th>Property Name</th>\n      <th>Reported</th>\n      <th>Property Type</th>\n      <th>Address</th>\n      <th>ZIP</th>\n      <th>Gross Area (sq ft)</th>\n      <th>Site EUI (kBTU/sf)</th>\n      <th>Energy Star Score</th>\n      <th>Energy Star Certified</th>\n      <th>Property Uses</th>\n      <th>...</th>\n      <th>% District Hot Water</th>\n      <th>% District Chilled Water</th>\n      <th>% Other (Diesel #2, Kerosene, Propane or Other Fuel)</th>\n      <th>Water Intensity (gal/sf)</th>\n      <th>Onsite Renewable (kWh)</th>\n      <th>User Submitted Info</th>\n      <th>User Submitted Link</th>\n      <th>Tax Parcel</th>\n      <th>Years Reported</th>\n      <th>Year</th>\n    </tr>\n  </thead>\n  <tbody>\n    <tr>\n      <th>0</th>\n      <td>MEEI -Longwood</td>\n      <td>Yes</td>\n      <td>Ambulatory Surgical Center</td>\n      <td>800 Huntington Ave</td>\n      <td>02115</td>\n      <td>76300.0</td>\n      <td>173.1</td>\n      <td>0.0</td>\n      <td>0</td>\n      <td>Ambulatory Surgical Center</td>\n      <td>...</td>\n      <td>0.0</td>\n      <td>0.0</td>\n      <td>0.0</td>\n      <td>NaN</td>\n      <td>0.0</td>\n      <td>NaN</td>\n      <td>NaN</td>\n      <td>1000894000</td>\n      <td>2014</td>\n      <td>2014</td>\n    </tr>\n    <tr>\n      <th>1</th>\n      <td>Prime Motor Group</td>\n      <td>Yes</td>\n      <td>Automobile Dealership</td>\n      <td>1525-1607 VFW Parkway</td>\n      <td>02132</td>\n      <td>150000.0</td>\n      <td>28.7</td>\n      <td>0.0</td>\n      <td>0</td>\n      <td>Automobile Dealership, Parking</td>\n      <td>...</td>\n      <td>0.0</td>\n      <td>0.0</td>\n      <td>0.0</td>\n      <td>8.957333</td>\n      <td>0.0</td>\n      <td>NaN</td>\n      <td>NaN</td>\n      <td>2010643010</td>\n      <td>2014</td>\n      <td>2014</td>\n    </tr>\n    <tr>\n      <th>2</th>\n      <td>New England Center for Homeless Veterans</td>\n      <td>Yes</td>\n      <td>Barracks</td>\n      <td>17 Court St.</td>\n      <td>02108</td>\n      <td>130000.0</td>\n      <td>49.8</td>\n      <td>58.0</td>\n      <td>0</td>\n      <td>Barracks</td>\n      <td>...</td>\n      <td>0.0</td>\n      <td>0.0</td>\n      <td>0.0</td>\n      <td>NaN</td>\n      <td>0.0</td>\n      <td>NaN</td>\n      <td>NaN</td>\n      <td>0302886000</td>\n      <td>2014</td>\n      <td>2014</td>\n    </tr>\n    <tr>\n      <th>3</th>\n      <td>Dental Health Building</td>\n      <td>Yes</td>\n      <td>College/University</td>\n      <td>1 Kneeland Street</td>\n      <td>02111</td>\n      <td>330486.0</td>\n      <td>284.7</td>\n      <td>0.0</td>\n      <td>0</td>\n      <td>College/University, Hospital (General Medical ...</td>\n      <td>...</td>\n      <td>0.0</td>\n      <td>0.0</td>\n      <td>0.0</td>\n      <td>24.437646</td>\n      <td>0.0</td>\n      <td>\\n\\nWater, electricity and steam come from Tuf...</td>\n      <td>NaN</td>\n      <td>0305380000</td>\n      <td>2014</td>\n      <td>2014</td>\n    </tr>\n    <tr>\n      <th>4</th>\n      <td>Posner Hall</td>\n      <td>Yes</td>\n      <td>College/University</td>\n      <td>200 Harrison Avenue</td>\n      <td>02111</td>\n      <td>60284.0</td>\n      <td>95.9</td>\n      <td>0.0</td>\n      <td>0</td>\n      <td>College/University</td>\n      <td>...</td>\n      <td>0.0</td>\n      <td>0.0</td>\n      <td>0.0</td>\n      <td>20.015261</td>\n      <td>0.0</td>\n      <td>NaN</td>\n      <td>NaN</td>\n      <td>0305081000</td>\n      <td>2014</td>\n      <td>2014</td>\n    </tr>\n  </tbody>\n</table>\n<p>5 rows × 28 columns</p>\n</div>"
     },
     "execution_count": 92,
     "metadata": {},
     "output_type": "execute_result"
    }
   ],
   "source": [
    "merged_data.head(5)"
   ],
   "metadata": {
    "collapsed": false
   }
  },
  {
   "cell_type": "code",
   "execution_count": 88,
   "outputs": [
    {
     "name": "stdout",
     "output_type": "stream",
     "text": [
      "<class 'pandas.core.frame.DataFrame'>\n",
      "RangeIndex: 18225 entries, 0 to 18224\n",
      "Data columns (total 28 columns):\n",
      " #   Column                                                Non-Null Count  Dtype  \n",
      "---  ------                                                --------------  -----  \n",
      " 0   Property Name                                         15751 non-null  object \n",
      " 1   Reported                                              18225 non-null  object \n",
      " 2   Property Type                                         18153 non-null  object \n",
      " 3   Address                                               18167 non-null  object \n",
      " 4   ZIP                                                   18225 non-null  object \n",
      " 5   Gross Area (sq ft)                                    18068 non-null  float64\n",
      " 6   Site EUI (kBTU/sf)                                    13456 non-null  float64\n",
      " 7   Energy Star Score                                     18225 non-null  float64\n",
      " 8   Energy Star Certified                                 18225 non-null  object \n",
      " 9   Property Uses                                         15717 non-null  object \n",
      " 10  Year Built                                            15693 non-null  float64\n",
      " 11  GHG Emissions (MTCO2e)                                15176 non-null  float64\n",
      " 12  GHG Intensity (kgCO2/sf)                              15179 non-null  float64\n",
      " 13  Total Site Energy (kBTU)                              14944 non-null  float64\n",
      " 14  % Electricity                                         14919 non-null  float64\n",
      " 15  % Gas                                                 12314 non-null  float64\n",
      " 16  % Steam                                               2836 non-null   float64\n",
      " 17  % Fuel Oil                                            8668 non-null   float64\n",
      " 18  % District Hot Water                                  8350 non-null   float64\n",
      " 19  % District Chilled Water                              8463 non-null   float64\n",
      " 20  % Other (Diesel #2, Kerosene, Propane or Other Fuel)  10812 non-null  float64\n",
      " 21  Water Intensity (gal/sf)                              12233 non-null  float64\n",
      " 22  Onsite Renewable (kWh)                                18225 non-null  float64\n",
      " 23  User Submitted Info                                   3710 non-null   object \n",
      " 24  User Submitted Link                                   34 non-null     object \n",
      " 25  Tax Parcel                                            17086 non-null  object \n",
      " 26  Years Reported                                        17962 non-null  object \n",
      " 27  Year                                                  18225 non-null  int64  \n",
      "dtypes: float64(16), int64(1), object(11)\n",
      "memory usage: 3.9+ MB\n"
     ]
    }
   ],
   "source": [
    "merged_data.info()"
   ],
   "metadata": {
    "collapsed": false
   }
  },
  {
   "cell_type": "code",
   "execution_count": 89,
   "outputs": [],
   "source": [
    "merged_data.to_csv(\"berdo-better.csv\", sep=',', encoding='utf-8')"
   ],
   "metadata": {
    "collapsed": false
   }
  }
 ],
 "metadata": {
  "kernelspec": {
   "display_name": "Python 3",
   "language": "python",
   "name": "python3"
  },
  "language_info": {
   "codemirror_mode": {
    "name": "ipython",
    "version": 2
   },
   "file_extension": ".py",
   "mimetype": "text/x-python",
   "name": "python",
   "nbconvert_exporter": "python",
   "pygments_lexer": "ipython2",
   "version": "2.7.6"
  }
 },
 "nbformat": 4,
 "nbformat_minor": 0
}
